{
  "cells": [
    {
      "cell_type": "markdown",
      "source": [
        "# Homework 2 Team:\n",
        "- Amy-Louise Snelling\n",
        "- Cherelle Brigden\n",
        "- Jemma John\n",
        "- Katrina Rogala\n",
        "- Louise Wright"
      ],
      "metadata": {
        "id": "eNG5YyBUytK_"
      },
      "id": "eNG5YyBUytK_"
    },
    {
      "cell_type": "markdown",
      "id": "60270890-c560-4d8c-b3d8-fcd69c14df41",
      "metadata": {
        "id": "60270890-c560-4d8c-b3d8-fcd69c14df41"
      },
      "source": [
        "# Question 1\n",
        "What is your project question(s) and the problem it tackles?\n",
        "You will be marked on how realistic the problem is given the project timeline, as\n",
        "well as the fit with the subjects covered throughout the Data Specialisation and\n",
        "your personal, common interests in the topic."
      ]
    },
    {
      "cell_type": "markdown",
      "id": "5f569f5d-cd4a-4060-9ac7-5bd43d1c03e1",
      "metadata": {
        "id": "5f569f5d-cd4a-4060-9ac7-5bd43d1c03e1"
      },
      "source": [
        "## Q1 Answer\n",
        "We're looking at internet penetration figures for different countries around the world and trying to understand what effect that has on the population in the country, specifically investigating economic growth, environmental sustainability, and public health. Our goal is use the dataset from the ITU (https://www.itu.int/en/Pages/default.aspx) which gives the internet penetration rates by country over the years 2010 until 2022 and will be looking to connect this dataset with some key World Development Indicators from the World Bank as well as other datasets in different areas.\n",
        "\n",
        "Each one of us has chosen a topic where we have particular interest or expertise and we plan to use our domain knowledge to investigate the correlations between internet penetration and the chosen area. The idea came from our group's initial discussion where there was a clear interest in social development, sustainability, charities, etc. Having found this internet dataset from ITU, it provided a great opportunity to combine these various interests.\n",
        "\n",
        "We're currently hoping to analyse the correlations between internet penetration rates and it's effects on:\n",
        "\n",
        "- Economic factors (e.g GNI, GINI index, GDP)\n",
        "\n",
        "  [\"Regions with higher internet penetration rates show more rapid economic development and a shift towards e-commerce.\"]\n",
        "  - (https://www.investopedia.com/terms/g/gross-national-income-gni.asp)\n",
        "  - GINI index (https://www.investopedia.com/terms/g/gini-index.asp)\n",
        "  - GDP (https://data.worldbank.org/indicator/NY.GDP.PCAP.KD.ZG?view=chart, https://data.worldbank.org/indicator/NY.GDP.MKTP.CD?view=chart)\n",
        "\n",
        "- Financial factors e.g. Link between average salary and interent access cost.\n",
        "\n",
        "  [\"A higher cost of internet suggests a lower internet penetration rate\"]\n",
        "  - (https://www.kaggle.com/code/shavilyarajput/world-cities-average-internet-prices-2010-2020/input?select=cities_internet_prices_historical.24-10-2021.csv )\n",
        "  - Worldwide average income (https://www.kaggle.com/datasets/iamsouravbanerjee/gross-national-income-per-capita/data )\n",
        "  - Additional information on cost of living data (https://www.kaggle.com/datasets/mvieira101/global-cost-of-living?select=cost-of-living.csv)\n",
        "- Sustainability e.g. CO2 emissions\n",
        "\n",
        "  [\"Areas with increased internet penetration are positively correlated with higher CO2 emissions.\"]\n",
        "  - https://data.worldbank.org/indicator/EN.ATM.CO2E.PC?view=chart\n",
        "- Mental Health e.g. Happiness index, Suicide rates\n",
        "\n",
        "  [\"Areas with increased internet penetration exhibit a change in the prevalence of certain mental health conditions, such as anxiety or depression\"]\n",
        "  - (https://www.gallup.com/analytics/318875/global-research.aspx).\n",
        "  -\n",
        "- Education e.g. Literacy rates (with potential look into gender difference here)\n",
        "\n",
        "  [\"Internet penetration rates are positively correlated with access to quality education and educational resources\"]\n",
        "  - (https://data.worldbank.org/indicator/SE.ADT.LITR.MA.ZS?view=chart\n",
        "  - https://data.worldbank.org/indicator/SE.ADT.LITR.FE.ZS?view=chart).\n",
        "  \n",
        "- Political engagement, e.g. voter turnout, political activism and also\n",
        "check to see if there is a correlation with terrorism rates:\n",
        "\n",
        "  [\"Areas with higher internet penetration rates show increased political engagement and political awareness.\" ]\n",
        "  - https://www.idea.int/data-tools/data/question-region?question_id=9188&countries=all&database_theme=293\n",
        "  - https://dataverse.harvard.edu/dataset.xhtml?persistentId=doi:10.7910/DVN/HTTWYL\n",
        "  - https://www.start.umd.edu/gtd/contact/download\n",
        "\n",
        "\n",
        "Our first task will be to understand the relationship between growth rates of internet penetration and growth or decline in other the metrics described above. Following those outcomes, and depending on time, we would like to potentially build a prediction model of how investement in access to internet can effect society on the above mentioned metrics.\n",
        "\n",
        "While this project does have the potential risk of being rather broad and endless, we always have the option of narrowing down the topics we're looking to create connections with if we're not able to find good data or time does not permit, while maintaining the overarching topic of seeing the effects internet access has on a population.\n",
        "\n",
        "Additionally, it's likely we may not find the relationships we intuitively think could be there with the data provided. In which case, we would leave those datasets and topics at the point where we see there are no relationships and proceed with where we do find correlations. Hence, narrowing down the project and workload."
      ]
    },
    {
      "cell_type": "markdown",
      "id": "7a77303f-eb01-47c4-a9cb-0304d80eaa88",
      "metadata": {
        "id": "7a77303f-eb01-47c4-a9cb-0304d80eaa88"
      },
      "source": [
        "# Question 2\n",
        "Explain your target audience. Who could be interested in reading your final report and for whom will your project be useful? Assess the level of expertise in relation to data science of your audience (for example, how technical should your report/presentation be?).\n",
        "You will be marked on correctly identifying your audience and the technical level of your presentation and report."
      ]
    },
    {
      "cell_type": "markdown",
      "source": [],
      "metadata": {
        "id": "G8sjO9rhiWbO"
      },
      "id": "G8sjO9rhiWbO"
    },
    {
      "cell_type": "markdown",
      "id": "0b122d2b-1135-4939-860b-bdad99971078",
      "metadata": {
        "id": "0b122d2b-1135-4939-860b-bdad99971078"
      },
      "source": [
        "## Q2 Answer\n",
        "The aim of our research is to investigate if there are any common trends that appear in the time periods following internet penetration, i.e., is there a period where political activism increases? Or does internet penetration have a strong correlation with mental health decline/increase?  If so, this could lead to further research into the impacts/cautions of the internet.  \n",
        "\n",
        "Therefore, our audience could range from social scientists, researchers, and students to government departments seeking to leverage internet investment for growth in specific sectors. Within these departments, the needs vary: some members require detailed analysis to assess the validity and reliability of the data, while others prefer a succinct, three-slide business report style presentation, relying on the technical verification of their colleagues. To accommodate this diverse audience, the complexity of our report will be carefully tailored. We will provide an executive summary for high-level decision-makers, detailed analysis for technical experts, and ensure the report's accessibility to all by using clear language and effective data visualization."
      ]
    },
    {
      "cell_type": "markdown",
      "id": "0071657f-713e-4a3a-aafc-2c5bfc6e56f3",
      "metadata": {
        "id": "0071657f-713e-4a3a-aafc-2c5bfc6e56f3"
      },
      "source": [
        "# Question 3\n",
        "What data   sources   will   you   need   to   answer   your   project   question(s)? Describe any potential issues you can have with the datasets and how will you overcome this: For example, will the data you find only cover particular geographical areas? Will you need to combine multiple datasets to overcome this?"
      ]
    },
    {
      "cell_type": "markdown",
      "id": "04991ce7-17f3-4f9e-8e90-f976eab5e785",
      "metadata": {
        "id": "04991ce7-17f3-4f9e-8e90-f976eab5e785"
      },
      "source": [
        "## Q3 Answer\n",
        "As touched on in the answer to Q1, we'll be looking at two key data sources for this information:\n",
        "- Internet penetration rates from ITU https://www.itu.int/en/Pages/default.aspx\n",
        "- World development indicators from the World Bank https://data.worldbank.org/indicator\n",
        "\n",
        "And compliment these with out data sources we can find to cover the mental health category e.g. Suicide rates (https://www.who.int/data/gho/data/themes/mental-health/suicide-rates) and Happiness index report https://worldhappiness.report/data/ with data from https://www.gallup.com/analytics/318875/global-research.aspx.\n",
        "\n",
        "As we will be looking at rates of change in these metrics, the key road block would be mismatch of data for given years between the various datasets and metrics we plan to look at. It's unlikely we will be using imputation to fill in those blanks but rather try to reduce the number of years we're spanning so we can match that across datasets and potentially reduce the countries we're using to study if there is a lack of data for them. And failing that, looking at metrics we can replace for the suggested ones above if we can match countries and years between the datasets.\n",
        "\n",
        "How can we identify when one of our hypotheses highlights correlation but not necessarily causation? This will require consideration into our analysis as well as contextual input from topical research. For example, when considering financial data other factors will be involved like inflation. We must consider how to deal with outliers that may skew our data, as well as carefully identify them.\n",
        "\n",
        "Particular issues raised with certain data sets are as follows:\n",
        "\n",
        "Political engagement:\n",
        "- These datasets have been downloaded from ITU, World Bank, Global Terrorism Database (GTD) and Harvard University. The years collected into the data sets vary slightly. For example, GTD does not include data for 2013 - which means that we are potentially missing correlations for that particular year, for example the WTC bombings. To overcome this, we will be looking at trends over multiple years, and as there are three datasets considered, there will be an implication of political engagement greater than simply terrorism.\n",
        "\n",
        "Education:\n",
        "- Literacy is incredibly difficult to measure. Some countries take literacy to be finishing secondary education where other countries look at more strenuous metrics. This therefore means that an results from these particular datasets can be used to perhaps indicate a trend, but not necessarily be relied upon for their validity.\n",
        "\n",
        "Finance:\n",
        "-  These datasets have been downloaded from Kaggle, they are a secondary data source that was not collected for the purpose of this hypothesis. There is a numbers of issues which could arise due to conversion rates between values - these may have changed regularly during the data collection causing small error intervals. Some rounding may have to take place as the float data type doesn't reaslistically represent 2dp monetary values. Additionally there may be missing years and values in the dataset."
      ]
    },
    {
      "cell_type": "markdown",
      "id": "5fae03fd-1e51-42c9-9632-006f0043948e",
      "metadata": {
        "id": "5fae03fd-1e51-42c9-9632-006f0043948e"
      },
      "source": [
        "# Question 4\n",
        "Describe the team approach to the project work: how are you planning to distribute the workload and how are you planning to work\n",
        "on your project; what are your team’s strengths and weaknesses;\n",
        "\n"
      ]
    },
    {
      "cell_type": "markdown",
      "id": "c957a924-f350-4f17-b30c-26b320cb2e42",
      "metadata": {
        "id": "c957a924-f350-4f17-b30c-26b320cb2e42"
      },
      "source": [
        "## Q4 Answer\n",
        "We have identified a collaborative idea that will pool resources from individual expertise to create a more comprehensive view of the internet penetration data that will provide more insight to our audience. We will use collaboration tools like GitHub for code management and a shared project management tool to track our progress. We will include our SWOT analysis to show the considerations we have made towards highlighting our areas of expertise in the project. To mitigate any weaknesses such as new language learning and time constraints, we will partner team members with complementary strengths and ensure flexible task management."
      ]
    },
    {
      "cell_type": "markdown",
      "source": [
        "## Project Timeline\n",
        "We will consistently keep the project activity log updated.\n",
        "Dates for each element in the week will be continually assessed on a weekly basis to allow for some flexibility but weekly deadlines should be met in order to keep progress for the project. We will agree tasks in each weekly meeting and key responsibilities for the following week will be identified as agreed to allow for flexibility.\n",
        "\n",
        "**Homework 2 Deadline 01/12/23**\n",
        "\n",
        "### W/C 27/11/23\n",
        "*   Create individual hypotheses that support the group concepts and ideas around internet penetration data but link to our own interests.\n",
        "*   Find suitable datasets, that have clean and suitable data.\n",
        "*   Begin exploring data within our own notebooks, identifying trends and links to hypotheses.\n",
        "\n",
        "### W/C 04/12/23\n",
        "*   Individually complete data analysis and make good (if not full) progress towards our hypotheses.\n",
        "*   Group call to collaborate our ideas and create a draft for the group project report.\n",
        "*   Add in any extra elements of content to our analysis covered in the most recent CFG sessions where suitable.\n",
        "*   Push files to git and suitable folders\n",
        "\n",
        "### W/C 11/12/23\n",
        "*   Make contributions to the group project report based on discussion and and report draft\n",
        "*   Proofread and run another's section of the report\n",
        "*   Create suitable data conclusions and write to report\n",
        "*   Check that all files are suitably pushed to Git and create pull request.\n",
        "\n",
        "**Project Deadline 17/12/23**\n",
        "### W/C 18/12/23\n",
        "*   Read full report thoroughly to create an overview to present\n",
        "*   Group call to agree on responsibilities of creating presentation\n",
        "*   Collaboratively produce presentation and agree on delivery roles.\n",
        "*   Complete practice presentation shortly before Thursday's session.\n",
        "⭐⭐⭐\n",
        "\n"
      ],
      "metadata": {
        "id": "3EwgCOU2kqC2"
      },
      "id": "3EwgCOU2kqC2"
    },
    {
      "cell_type": "markdown",
      "source": [
        "## SWOT Analysis\n",
        "\n",
        "Jemma\n",
        "* S - Mathematical modelling, presenting and SQL\n",
        "* W - Contextual understanding of global situations\n",
        "* O - Link to current research and create example for profile\n",
        "* T - Time availability\n",
        "\n",
        "Katrina\n",
        "* S - Mathematical Modelling, Statistics, PowerBI and Python\n",
        "* W - Storytelling, data insights generation could be improved\n",
        "* O - Further development of statistical analysis using the tools we're learning on the course, developing skills around insights and the 'so what' of what data analysis is showing\n",
        "* T - Time availability, competing priorities with work\n",
        "\n",
        "Louise\n",
        "* S - Presenting, SQL and Python, Strong background in Political Science.\n",
        "* W - New to some of the languages, and therefore might take me a bit longer to establish how to approach certain tasks.\n",
        "* O - There is the possibility to identify correlations between political engagement and internet penetration, which could identify potential further items for investigation in this field\n",
        "* T - Time availability/Shift patterns.\n",
        "\n",
        "Cherelle\n",
        "* S - Design, Creative and SQL.\n",
        "* W - Limited coding experience with Python.\n",
        "* O - Opportunity to collaborate with others learning Coding & Data analysis. Portfolio building to shift careers.\n",
        "* T - Time availability, competing priorities with family/work.\n",
        "\n",
        "Amy-Louise\n",
        "* S - Design, SQL and Marketing.\n",
        "* W - Python (New to the language, need more time with tasks).\n",
        "* O - Collaborative working, portfolio development (career), personal development.\n",
        "* T - Time availability/other study commitments.\n"
      ],
      "metadata": {
        "id": "YYtW8u-Fs8q7"
      },
      "id": "YYtW8u-Fs8q7"
    }
  ],
  "metadata": {
    "kernelspec": {
      "display_name": "Python 3 (ipykernel)",
      "language": "python",
      "name": "python3"
    },
    "language_info": {
      "codemirror_mode": {
        "name": "ipython",
        "version": 3
      },
      "file_extension": ".py",
      "mimetype": "text/x-python",
      "name": "python",
      "nbconvert_exporter": "python",
      "pygments_lexer": "ipython3",
      "version": "3.11.5"
    },
    "colab": {
      "provenance": []
    }
  },
  "nbformat": 4,
  "nbformat_minor": 5
}